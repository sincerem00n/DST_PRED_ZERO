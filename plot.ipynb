{
 "cells": [
  {
   "cell_type": "code",
   "execution_count": null,
   "metadata": {},
   "outputs": [],
   "source": [
    "import numpy as np\n",
    "import torch\n",
    "import matplotlib.pyplot as plt\n",
    "from model import LSTM\n",
    "import pandas as pd\n",
    "from sklearn.preprocessing import MinMaxScaler\n",
    "from sklearn.model_selection import train_test_split\n",
    "from torch.utils.data import DataLoader, TensorDataset"
   ]
  },
  {
   "cell_type": "code",
   "execution_count": null,
   "metadata": {},
   "outputs": [],
   "source": [
    "device = torch.device(\"cuda\" if torch.cuda.is_available() else \"cpu\")\n",
    "print(device)"
   ]
  },
  {
   "cell_type": "markdown",
   "metadata": {},
   "source": [
    "### **Load the data**"
   ]
  },
  {
   "cell_type": "code",
   "execution_count": null,
   "metadata": {},
   "outputs": [],
   "source": [
    "data = pd.read_csv('data/solar_wind_parameters_data_1_hourly_all.csv')\n",
    "\n",
    "data = data.drop(columns=['Unnamed: 0','Timestamp'])\n",
    "\n",
    "# data.head()\n",
    "\n",
    "features = ['Scalar_B', 'BZ_GSE', 'BZ_GSM', 'Proton_Density', 'SW_Plasma_Speed']\n",
    "target = ['Dst-index']\n",
    "\n",
    "batch_size = 32\n",
    "\n",
    "# Select the features and target\n",
    "data = data[features + target]\n",
    "\n",
    "# Normalize the data\n",
    "scaler = MinMaxScaler()\n",
    "data_scaled = scaler.fit_transform(data)\n",
    "\n",
    "# Split the data into sequences\n",
    "def sequence(data, seq_length):\n",
    "    X, y = [], []\n",
    "    for i in range(len(data) - seq_length):\n",
    "        X.append(data[i:i+seq_length, :-1]) # all columns except the last\n",
    "        y.append(data[i+seq_length, -1])  # target is the last column\n",
    "        # print(f'X:{np.array(X)}, Y:{np.array(y)}')\n",
    "    return np.array(X), np.array(y)\n",
    "\n",
    "SEQ_LENGTH = 24\n",
    "X, y = sequence(data_scaled, SEQ_LENGTH)\n",
    "\n",
    "# Convert to PyTorch tensors\n",
    "X_tensor = torch.tensor(X, dtype=torch.float32).to(device)\n",
    "y_tensor = torch.tensor(y, dtype=torch.float32).to(device)\n",
    "\n",
    "# Split the data into training and testing sets\n",
    "X_train, X_test, y_train, y_test = train_test_split(X_tensor, y_tensor, test_size=0.2, shuffle=False)\n",
    "print(f'Train shape: {X_train.shape}, {y_train.shape}')\n",
    "print(f'Test shape: {X_test.shape}, {y_test.shape}')\n",
    "\n",
    "test_data = TensorDataset(X_test, y_test)\n",
    "test_load = DataLoader(test_data, batch_size=batch_size, shuffle=False)"
   ]
  },
  {
   "cell_type": "markdown",
   "metadata": {},
   "source": [
    "### **Load the Model**"
   ]
  },
  {
   "cell_type": "code",
   "execution_count": null,
   "metadata": {},
   "outputs": [],
   "source": [
    "# Load the trained model\n",
    "path = 'results/run3/best_model.pth'\n",
    "checkpoint = torch.load(f'{path}', map_location=device)\n",
    "print(checkpoint.keys())\n",
    "\n",
    "# Recreate the model\n",
    "model = LSTM(checkpoint['input_size'], checkpoint['hidden_layer_size'], output_size=1).to(device)\n",
    "\n",
    "# Load the model weights\n",
    "model.load_state_dict(checkpoint['model_state_dict'])\n",
    "model.eval()  # Set to evaluation mode\n",
    "\n",
    "print(\"Model loaded successfully!\")"
   ]
  },
  {
   "cell_type": "markdown",
   "metadata": {},
   "source": [
    "### **Plot**"
   ]
  },
  {
   "cell_type": "code",
   "execution_count": null,
   "metadata": {},
   "outputs": [],
   "source": [
    "X_test, y_test = next(iter(test_load))  # Get one batch from test dataset\n",
    "X_test = X_test.to(device)\n",
    "\n",
    "# Predict\n",
    "with torch.no_grad():\n",
    "    y_pred = model(X_test).cpu().numpy()  # Convert to NumPy for plotting\n",
    "    # print(f'y_pred:{y_pred.shape} {y_pred}')\n",
    "\n",
    "# Convert true values to NumPy\n",
    "y_test = y_test.cpu().numpy()\n",
    "\n",
    "# Fix the shape by flattening y_pred\n",
    "y_pred = y_pred.reshape(y_pred.shape[0], -1).mean(axis=1)  # Average across time steps if needed\n",
    "print(f'y_pred:{y_pred.shape} {y_pred}')\n"
   ]
  },
  {
   "cell_type": "code",
   "execution_count": null,
   "metadata": {},
   "outputs": [],
   "source": [
    "plt.figure(figsize=(10,5))\n",
    "plt.plot(y_test, label=\"Actual DST\", linestyle='-', marker='o', alpha=0.7)\n",
    "plt.plot(y_pred, label=\"Predicted DST\", linestyle='--', marker='x', alpha=0.7)\n",
    "\n",
    "plt.xlabel(\"Time Step\")\n",
    "plt.ylabel(\"DST Index\")\n",
    "plt.title(\"DST Index Prediction using LSTM\")\n",
    "plt.legend()\n",
    "plt.grid()\n",
    "plt.show()"
   ]
  }
 ],
 "metadata": {
  "kernelspec": {
   "display_name": "Python binder_env",
   "language": "python",
   "name": "binder_env"
  },
  "language_info": {
   "codemirror_mode": {
    "name": "ipython",
    "version": 3
   },
   "file_extension": ".py",
   "mimetype": "text/x-python",
   "name": "python",
   "nbconvert_exporter": "python",
   "pygments_lexer": "ipython3",
   "version": "3.9.16"
  }
 },
 "nbformat": 4,
 "nbformat_minor": 2
}
